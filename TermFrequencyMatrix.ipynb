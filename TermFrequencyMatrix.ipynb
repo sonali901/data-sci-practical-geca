{
 "cells": [
  {
   "cell_type": "code",
   "execution_count": 1,
   "metadata": {},
   "outputs": [
    {
     "name": "stdout",
     "output_type": "stream",
     "text": [
      "   he  is  a  good  person  bad  student  hardworking\n",
      "0   1   1  1     1       1    0        0            0\n",
      "1   1   1  0     0       0    1        1            0\n",
      "2   1   1  0     0       0    0        0            1\n"
     ]
    }
   ],
   "source": [
    "import pandas as pd\n",
    "from sklearn.feature_extraction.text import CountVectorizer\n",
    "\n",
    "corpus = ['He is a good person',\n",
    "          'He is bad student',\n",
    "          'He is hardworking']\n",
    "df = pd.DataFrame(data=corpus, columns=['sentences'])\n",
    "\n",
    "vectorizer = CountVectorizer(vocabulary=['he', 'is', 'a', 'good', 'person', 'bad', 'student', 'hardworking'], min_df=0,\n",
    "                             stop_words=frozenset(), token_pattern=r\"(?u)\\b\\w+\\b\")\n",
    "X = vectorizer.fit_transform(df['sentences'].values)\n",
    "result = pd.DataFrame(data=X.toarray(), columns=vectorizer.get_feature_names())\n",
    "print(result)"
   ]
  },
  {
   "cell_type": "code",
   "execution_count": 2,
   "metadata": {},
   "outputs": [
    {
     "name": "stdout",
     "output_type": "stream",
     "text": [
      "   bad  good  hardworking  he  is  person  student\n",
      "0    0     1            0   1   1       1        0\n",
      "1    1     0            0   1   1       0        1\n",
      "2    0     0            1   1   1       0        0\n"
     ]
    }
   ],
   "source": [
    "import pandas as pd\n",
    "from sklearn.feature_extraction.text import CountVectorizer\n",
    "\n",
    "corpus = ['He is a good person',\n",
    "          'He is bad student',\n",
    "          'He is hardworking']\n",
    "df = pd.DataFrame(data=corpus, columns=['sentences'])\n",
    "\n",
    "vectorizer = CountVectorizer(min_df=0,stop_words=frozenset())\n",
    "X = vectorizer.fit_transform(df['sentences'].values)\n",
    "result = pd.DataFrame(data=X.toarray(), columns=vectorizer.get_feature_names())\n",
    "print(result)"
   ]
  },
  {
   "cell_type": "code",
   "execution_count": 11,
   "metadata": {},
   "outputs": [
    {
     "name": "stdout",
     "output_type": "stream",
     "text": [
      "!\"#$%&'()*+,-./:;<=>?@[\\]^_`{|}~\n"
     ]
    },
    {
     "data": {
      "text/plain": [
       "['Beans',\n",
       " 'I',\n",
       " 'was',\n",
       " 'trying',\n",
       " 'to',\n",
       " 'explain',\n",
       " 'to',\n",
       " 'somebody',\n",
       " 'as',\n",
       " 'we',\n",
       " 'were',\n",
       " 'flying',\n",
       " 'in',\n",
       " 'that',\n",
       " 's',\n",
       " 'corn',\n",
       " 'That',\n",
       " 's',\n",
       " 'beans',\n",
       " 'And',\n",
       " 'somebody',\n",
       " 'were',\n",
       " 'very',\n",
       " 'impressed',\n",
       " 'at',\n",
       " 'my',\n",
       " 'agricultural',\n",
       " 'knowledge']"
      ]
     },
     "execution_count": 11,
     "metadata": {},
     "output_type": "execute_result"
    }
   ],
   "source": [
    "text='Beans. I was trying to explain to somebody as we were flying in, that’s corn. That’s beans. And somebody were very impressed at my agricultural knowledge.'\n",
    "from nltk.tokenize import word_tokenize\n",
    "tok_text = word_tokenize(text)\n",
    "\n",
    "import string\n",
    "print(string.punctuation)\n",
    "p=['’']\n",
    "for i in tok_text:\n",
    "    if i in p:\n",
    "        tok_text.remove(i)\n",
    "    if i in string.punctuation:\n",
    "        tok_text.remove(i)\n",
    "\n",
    "tok_text"
   ]
  },
  {
   "cell_type": "code",
   "execution_count": 12,
   "metadata": {},
   "outputs": [
    {
     "data": {
      "text/plain": [
       "['Beans',\n",
       " 'I',\n",
       " 'trying',\n",
       " 'explain',\n",
       " 'somebody',\n",
       " 'flying',\n",
       " 'corn',\n",
       " 'That',\n",
       " 'beans',\n",
       " 'And',\n",
       " 'somebody',\n",
       " 'impressed',\n",
       " 'agricultural',\n",
       " 'knowledge']"
      ]
     },
     "execution_count": 12,
     "metadata": {},
     "output_type": "execute_result"
    }
   ],
   "source": [
    "from nltk.corpus import stopwords \n",
    "stop_words = set(stopwords.words('english')) \n",
    "filtered_text = [w for w in tok_text if not w in stop_words] \n",
    "filtered_text"
   ]
  },
  {
   "cell_type": "code",
   "execution_count": 13,
   "metadata": {},
   "outputs": [
    {
     "name": "stdout",
     "output_type": "stream",
     "text": [
      "    agricultural  and  beans  corn  explain  flying  impressed  knowledge  \\\n",
      "0              0    0      1     0        0       0          0          0   \n",
      "1              0    0      0     0        0       0          0          0   \n",
      "2              0    0      0     0        0       0          0          0   \n",
      "3              0    0      0     0        1       0          0          0   \n",
      "4              0    0      0     0        0       0          0          0   \n",
      "5              0    0      0     0        0       1          0          0   \n",
      "6              0    0      0     1        0       0          0          0   \n",
      "7              0    0      0     0        0       0          0          0   \n",
      "8              0    0      1     0        0       0          0          0   \n",
      "9              0    1      0     0        0       0          0          0   \n",
      "10             0    0      0     0        0       0          0          0   \n",
      "11             0    0      0     0        0       0          1          0   \n",
      "12             1    0      0     0        0       0          0          0   \n",
      "13             0    0      0     0        0       0          0          1   \n",
      "\n",
      "    somebody  that  trying  \n",
      "0          0     0       0  \n",
      "1          0     0       0  \n",
      "2          0     0       1  \n",
      "3          0     0       0  \n",
      "4          1     0       0  \n",
      "5          0     0       0  \n",
      "6          0     0       0  \n",
      "7          0     1       0  \n",
      "8          0     0       0  \n",
      "9          0     0       0  \n",
      "10         1     0       0  \n",
      "11         0     0       0  \n",
      "12         0     0       0  \n",
      "13         0     0       0  \n"
     ]
    }
   ],
   "source": [
    "import pandas as pd\n",
    "from sklearn.feature_extraction.text import CountVectorizer\n",
    "\n",
    "df = pd.DataFrame(data=filtered_text, columns=['sentences'])\n",
    "\n",
    "vectorizer = CountVectorizer(min_df=0,stop_words=frozenset())\n",
    "X = vectorizer.fit_transform(df['sentences'].values)\n",
    "result = pd.DataFrame(data=X.toarray(), columns=vectorizer.get_feature_names())\n",
    "print(result)"
   ]
  },
  {
   "cell_type": "code",
   "execution_count": null,
   "metadata": {},
   "outputs": [],
   "source": []
  }
 ],
 "metadata": {
  "kernelspec": {
   "display_name": "Python 3",
   "language": "python",
   "name": "python3"
  },
  "language_info": {
   "codemirror_mode": {
    "name": "ipython",
    "version": 3
   },
   "file_extension": ".py",
   "mimetype": "text/x-python",
   "name": "python",
   "nbconvert_exporter": "python",
   "pygments_lexer": "ipython3",
   "version": "3.7.4"
  }
 },
 "nbformat": 4,
 "nbformat_minor": 2
}
